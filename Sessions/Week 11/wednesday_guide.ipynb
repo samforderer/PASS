{
 "cells": [
  {
   "cell_type": "markdown",
   "metadata": {},
   "source": [
    "# Loops\n",
    "- For \n",
    "- While \n",
    "\n",
    "When do we use for/while? "
   ]
  },
  {
   "cell_type": "markdown",
   "metadata": {},
   "source": [
    "## Question 1: Intersection\n",
    "- Take input from user and add to a listA until user enters 0\n",
    "- Create another list called listB using the same technique\n",
    "- Create a new list that contains only the common values of listA and listB\n",
    "\n",
    "- Modularize the list creation \n",
    "- Create a menu that allows the option for user to generate a random list or to user input\n",
    "\n",
    "- print"
   ]
  },
  {
   "cell_type": "code",
   "execution_count": 14,
   "metadata": {},
   "outputs": [
    {
     "name": "stdout",
     "output_type": "stream",
     "text": [
      "\u001b[31msome red text\n",
      "\u001b[42mand with a green background\n",
      "\u001b[2mand in dim text\n",
      "\u001b[0m\n",
      "back to normal now\n"
     ]
    }
   ],
   "source": [
    "from colorama import Fore, Back, Style\n",
    "print(Fore.RED + 'some red text')\n",
    "print(Back.GREEN + 'and with a green background')\n",
    "print(Style.DIM + 'and in dim text')\n",
    "print(Style.RESET_ALL)\n",
    "print('back to normal now')\n",
    "\n",
    "listA = []\n",
    "listB = []\n",
    "common_values_list = []\n",
    "\n",
    "user_inputted_list_item = input(\"Enter list item: \")\n",
    "\n",
    "while user_inputted_list_item != \"exit\":\n",
    "    listA.append(user_inputted_list_item)\n",
    "    user_inputted_list_item = input(\"Enter listA item: \")\n",
    "\n",
    "# reinitialize item variable\n",
    "user_inputted_list_item = input(\"Enter list item: \")\n",
    "\n",
    "while user_inputted_list_item != \"exit\":\n",
    "    listB.append(user_inputted_list_item)\n",
    "    user_inputted_list_item = input(\"Enter listB item: \")\n",
    "\n",
    "for itemA in listA:\n",
    "    for itemB in listB:\n",
    "        if itemA == itemB:\n",
    "            common_values_list.append(itemA) \n",
    "            \n",
    "print(\"The common values between your two lists are: \") \n",
    "for item in common_values_list:\n",
    "    print(item)\n",
    "    "
   ]
  },
  {
   "cell_type": "code",
   "execution_count": null,
   "metadata": {},
   "outputs": [],
   "source": []
  }
 ],
 "metadata": {
  "kernelspec": {
   "display_name": "base",
   "language": "python",
   "name": "python3"
  },
  "language_info": {
   "codemirror_mode": {
    "name": "ipython",
    "version": 3
   },
   "file_extension": ".py",
   "mimetype": "text/x-python",
   "name": "python",
   "nbconvert_exporter": "python",
   "pygments_lexer": "ipython3",
   "version": "3.11.5"
  }
 },
 "nbformat": 4,
 "nbformat_minor": 2
}
