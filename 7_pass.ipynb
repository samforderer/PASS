{
 "cells": [
  {
   "cell_type": "markdown",
   "metadata": {},
   "source": [
    "# PASS Week 7 \n",
    "## Boolean and Conditional Logic\n"
   ]
  },
  {
   "cell_type": "markdown",
   "metadata": {},
   "source": [
    "1. Make a function that converts a 4 digit binary number to decimal"
   ]
  },
  {
   "cell_type": "code",
   "execution_count": 23,
   "metadata": {},
   "outputs": [],
   "source": [
    "def if_one(digit, pos):\n",
    "    if digit == '1':\n",
    "        return 2 ** pos\n",
    "    else:\n",
    "        return 0"
   ]
  },
  {
   "cell_type": "code",
   "execution_count": 24,
   "metadata": {},
   "outputs": [],
   "source": [
    "def bi_to_dec(binary):\n",
    "    binary = str(binary)\n",
    "    pos = 0\n",
    "    # assume 4 digit number\n",
    "  \n",
    "    result = 0 # check the 3rd index \n",
    "\n",
    "    result += if_one(binary[3], pos)\n",
    "    print(result)\n",
    "    pos += 1\n",
    "\n",
    "    result += if_one(binary[2], pos)\n",
    "    print(result)\n",
    "    pos += 1\n",
    "\n",
    "    result += if_one(binary[1], pos)\n",
    "    print(result)\n",
    "    pos += 1\n",
    "\n",
    "    result += if_one(binary[0], pos)\n",
    "\n",
    "\n",
    "    return result"
   ]
  },
  {
   "cell_type": "code",
   "execution_count": 25,
   "metadata": {},
   "outputs": [
    {
     "name": "stdout",
     "output_type": "stream",
     "text": [
      "0\n",
      "2\n",
      "2\n",
      "10\n"
     ]
    }
   ],
   "source": [
    "print(bi_to_dec(\"1010\"))"
   ]
  },
  {
   "cell_type": "markdown",
   "metadata": {},
   "source": []
  },
  {
   "cell_type": "markdown",
   "metadata": {},
   "source": [
    "2. Write a function named different that has two parameters, a and b.\n",
    "\n",
    "\n",
    "The function should return True if a and b refer to different values\n",
    "and should return False otherwise."
   ]
  },
  {
   "cell_type": "code",
   "execution_count": 31,
   "metadata": {},
   "outputs": [
    {
     "name": "stdout",
     "output_type": "stream",
     "text": [
      "It is different.\n"
     ]
    }
   ],
   "source": [
    "def different(a, b):\n",
    "    if a != b:\n",
    "        return True\n",
    "    else:\n",
    "        return False\n",
    "    \n",
    "if different(\"Cat\", \"Dog\"):\n",
    "    print(\"It is different.\")\n",
    "else:\n",
    "    print(\"It is not different.\")"
   ]
  },
  {
   "cell_type": "code",
   "execution_count": 14,
   "metadata": {},
   "outputs": [
    {
     "data": {
      "text/plain": [
       "False"
      ]
     },
     "execution_count": 14,
     "metadata": {},
     "output_type": "execute_result"
    }
   ],
   "source": [
    "check_same(10,10)"
   ]
  },
  {
   "cell_type": "code",
   "execution_count": 15,
   "metadata": {},
   "outputs": [
    {
     "name": "stdout",
     "output_type": "stream",
     "text": [
      "They are the same!\n"
     ]
    }
   ],
   "source": [
    "if check_same(10,10):\n",
    "    print(\"They are not the same value\")\n",
    "else:\n",
    "    print(\"They are the same!\")"
   ]
  },
  {
   "cell_type": "markdown",
   "metadata": {},
   "source": [
    "3. You are given two `float` variables `population` and `land`\n",
    "- write an if statement that will print the population if it is less than 10,000,000.\n",
    "- write an if statment that will print the population if it is between 10,000,000 and 35,000,000.\n",
    "- write an if statement that will print \"Densely populated\" if land density is greater than 100"
   ]
  },
  {
   "cell_type": "markdown",
   "metadata": {},
   "source": [
    "4. Given variables full and empty, write an expression that evaluates\n",
    "to True if at most one of the variables is True and evaluates to False\n",
    "otherwise."
   ]
  },
  {
   "cell_type": "code",
   "execution_count": 43,
   "metadata": {},
   "outputs": [
    {
     "name": "stdout",
     "output_type": "stream",
     "text": [
      "True\n"
     ]
    }
   ],
   "source": [
    "full = False\n",
    "empty = True\n",
    "\n",
    "if full and empty:\n",
    "    print(\"False\")\n",
    "elif full == True and empty == False:\n",
    "    print(\"True\")\n",
    "elif empty == True and full == False:\n",
    "    print(\"True\")\n",
    "elif empty == False and full == False:\n",
    "    print(\"False\")\n",
    "\n"
   ]
  }
 ],
 "metadata": {
  "kernelspec": {
   "display_name": "Python 3",
   "language": "python",
   "name": "python3"
  },
  "language_info": {
   "codemirror_mode": {
    "name": "ipython",
    "version": 3
   },
   "file_extension": ".py",
   "mimetype": "text/x-python",
   "name": "python",
   "nbconvert_exporter": "python",
   "pygments_lexer": "ipython3",
   "version": "3.11.5"
  }
 },
 "nbformat": 4,
 "nbformat_minor": 2
}
